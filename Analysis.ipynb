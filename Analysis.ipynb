{
 "cells": [
  {
   "cell_type": "code",
   "execution_count": 1,
   "metadata": {
    "vscode": {
     "languageId": "r"
    }
   },
   "outputs": [],
   "source": [
    "import pandas as pd\n",
    "import os"
   ]
  },
  {
   "cell_type": "code",
   "execution_count": 5,
   "metadata": {
    "vscode": {
     "languageId": "r"
    }
   },
   "outputs": [
    {
     "name": "stdout",
     "output_type": "stream",
     "text": [
      "Q54-4_met_stats.tsv\n",
      "kapau4-6_met_stats.tsv\n"
     ]
    },
    {
     "data": {
      "text/html": [
       "<div>\n",
       "<style scoped>\n",
       "    .dataframe tbody tr th:only-of-type {\n",
       "        vertical-align: middle;\n",
       "    }\n",
       "\n",
       "    .dataframe tbody tr th {\n",
       "        vertical-align: top;\n",
       "    }\n",
       "\n",
       "    .dataframe thead th {\n",
       "        text-align: right;\n",
       "    }\n",
       "</style>\n",
       "<table border=\"1\" class=\"dataframe\">\n",
       "  <thead>\n",
       "    <tr style=\"text-align: right;\">\n",
       "      <th></th>\n",
       "      <th>raw_bases</th>\n",
       "      <th>raw_reads</th>\n",
       "      <th>Q20_bases</th>\n",
       "      <th>Q30_bases</th>\n",
       "      <th>trimmed_bases</th>\n",
       "      <th>trimmed_reads</th>\n",
       "      <th>mapped_reads</th>\n",
       "      <th>mapped_ratio</th>\n",
       "      <th>dedup_reads</th>\n",
       "      <th>dedup_ratio</th>\n",
       "      <th>coverage</th>\n",
       "      <th>depth</th>\n",
       "      <th>lambda_reads</th>\n",
       "      <th>conversion</th>\n",
       "      <th>genome_CG</th>\n",
       "      <th>genome_CHH</th>\n",
       "      <th>genome_CHG</th>\n",
       "    </tr>\n",
       "    <tr>\n",
       "      <th>sample</th>\n",
       "      <th></th>\n",
       "      <th></th>\n",
       "      <th></th>\n",
       "      <th></th>\n",
       "      <th></th>\n",
       "      <th></th>\n",
       "      <th></th>\n",
       "      <th></th>\n",
       "      <th></th>\n",
       "      <th></th>\n",
       "      <th></th>\n",
       "      <th></th>\n",
       "      <th></th>\n",
       "      <th></th>\n",
       "      <th></th>\n",
       "      <th></th>\n",
       "      <th></th>\n",
       "    </tr>\n",
       "  </thead>\n",
       "  <tbody>\n",
       "    <tr>\n",
       "      <th>Q54-4</th>\n",
       "      <td>2281068300</td>\n",
       "      <td>15207122</td>\n",
       "      <td>2181226560</td>\n",
       "      <td>2050191254</td>\n",
       "      <td>792203777</td>\n",
       "      <td>5923378</td>\n",
       "      <td>3900956</td>\n",
       "      <td>65.85</td>\n",
       "      <td>291926</td>\n",
       "      <td>92.52</td>\n",
       "      <td>0.005486</td>\n",
       "      <td>0.009244</td>\n",
       "      <td>86</td>\n",
       "      <td>0.002225</td>\n",
       "      <td>0.882487</td>\n",
       "      <td>0.885618</td>\n",
       "      <td>0.887747</td>\n",
       "    </tr>\n",
       "    <tr>\n",
       "      <th>kapau4-6</th>\n",
       "      <td>5380567500</td>\n",
       "      <td>35870450</td>\n",
       "      <td>5161528184</td>\n",
       "      <td>4849367233</td>\n",
       "      <td>1662021948</td>\n",
       "      <td>12065328</td>\n",
       "      <td>7891520</td>\n",
       "      <td>65.40</td>\n",
       "      <td>278500</td>\n",
       "      <td>96.48</td>\n",
       "      <td>0.006321</td>\n",
       "      <td>0.010539</td>\n",
       "      <td>124</td>\n",
       "      <td>0.003444</td>\n",
       "      <td>0.921241</td>\n",
       "      <td>0.916183</td>\n",
       "      <td>0.918178</td>\n",
       "    </tr>\n",
       "  </tbody>\n",
       "</table>\n",
       "</div>"
      ],
      "text/plain": [
       "           raw_bases  raw_reads   Q20_bases   Q30_bases  trimmed_bases   \n",
       "sample                                                                   \n",
       "Q54-4     2281068300   15207122  2181226560  2050191254      792203777  \\\n",
       "kapau4-6  5380567500   35870450  5161528184  4849367233     1662021948   \n",
       "\n",
       "          trimmed_reads  mapped_reads  mapped_ratio  dedup_reads  dedup_ratio   \n",
       "sample                                                                          \n",
       "Q54-4           5923378       3900956         65.85       291926        92.52  \\\n",
       "kapau4-6       12065328       7891520         65.40       278500        96.48   \n",
       "\n",
       "          coverage     depth  lambda_reads  conversion  genome_CG  genome_CHH   \n",
       "sample                                                                          \n",
       "Q54-4     0.005486  0.009244            86    0.002225   0.882487    0.885618  \\\n",
       "kapau4-6  0.006321  0.010539           124    0.003444   0.921241    0.916183   \n",
       "\n",
       "          genome_CHG  \n",
       "sample                \n",
       "Q54-4       0.887747  \n",
       "kapau4-6    0.918178  "
      ]
     },
     "execution_count": 5,
     "metadata": {},
     "output_type": "execute_result"
    }
   ],
   "source": [
    "data_dir = os.listdir(\"04.stat_info\")\n",
    "df = pd.DataFrame()\n",
    "for file in data_dir:\n",
    "    if file.endswith(\".tsv\"):\n",
    "        print(file)\n",
    "        if df.empty:\n",
    "            df = pd.read_csv((\"04.stat_info/\"+file), sep=\"\\t\")\n",
    "        else:\n",
    "            df = pd.concat([df, pd.read_csv((\"04.stat_info/\"+file),sep='\\t')], axis=0)\n",
    "\n",
    "df = df.set_index(\"sample\")\n",
    "df"
   ]
  }
 ],
 "metadata": {
  "kernelspec": {
   "display_name": "R",
   "language": "R",
   "name": "ir"
  },
  "language_info": {
   "codemirror_mode": {
    "name": "ipython",
    "version": 3
   },
   "file_extension": ".py",
   "mimetype": "text/x-python",
   "name": "R",
   "nbconvert_exporter": "python",
   "pygments_lexer": "ipython3",
   "version": "3.10.10"
  },
  "orig_nbformat": 4
 },
 "nbformat": 4,
 "nbformat_minor": 2
}
